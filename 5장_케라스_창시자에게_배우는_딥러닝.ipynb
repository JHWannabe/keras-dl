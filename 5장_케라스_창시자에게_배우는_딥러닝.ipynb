{
  "nbformat": 4,
  "nbformat_minor": 0,
  "metadata": {
    "colab": {
      "provenance": [],
      "authorship_tag": "ABX9TyMYjanxjsX1i+EM+/bOIgt3",
      "include_colab_link": true
    },
    "kernelspec": {
      "name": "python3",
      "display_name": "Python 3"
    },
    "language_info": {
      "name": "python"
    }
  },
  "cells": [
    {
      "cell_type": "markdown",
      "metadata": {
        "id": "view-in-github",
        "colab_type": "text"
      },
      "source": [
        "<a href=\"https://colab.research.google.com/github/JHWannabe/keras-dl/blob/main/5%EC%9E%A5_%EC%BC%80%EB%9D%BC%EC%8A%A4_%EC%B0%BD%EC%8B%9C%EC%9E%90%EC%97%90%EA%B2%8C_%EB%B0%B0%EC%9A%B0%EB%8A%94_%EB%94%A5%EB%9F%AC%EB%8B%9D.ipynb\" target=\"_parent\"><img src=\"https://colab.research.google.com/assets/colab-badge.svg\" alt=\"Open In Colab\"/></a>"
      ]
    },
    {
      "cell_type": "code",
      "execution_count": 1,
      "metadata": {
        "id": "X9Xt7uPtgZyf"
      },
      "outputs": [],
      "source": [
        "from tensorflow.keras.datasets import mnist\n",
        "import numpy as np"
      ]
    },
    {
      "cell_type": "markdown",
      "source": [
        "### 코드 5-1 MNIST에 백색 잡음 픽셀과 0픽셀 추가하기"
      ],
      "metadata": {
        "id": "6UmjEAzqhfZi"
      }
    },
    {
      "cell_type": "code",
      "source": [
        "(train_images, train_labels), _ = mnist.load_data()\n",
        "train_images = train_images.reshape((60000, 28 * 28))\n",
        "train_images = train_images.astype(\"float32\") / 255\n",
        "train_images_with_noise_channels = np.concatenate(\n",
        "    [train_images, np.random.random((len(train_images), 784))], axis=1)\n",
        "train_images_with_zeros_channels = np.concatenate(\n",
        "    [train_images, np.zeros((len(train_images), 784))], axis=1)"
      ],
      "metadata": {
        "id": "pw2ugknhgr8p"
      },
      "execution_count": 2,
      "outputs": []
    },
    {
      "cell_type": "markdown",
      "source": [
        "### 코드 5-2 백색 잡음과 0을 추가한 MNIST 데이터에서 모델 훈련하기"
      ],
      "metadata": {
        "id": "XUl9QaPfhnjP"
      }
    },
    {
      "cell_type": "code",
      "source": [
        "from tensorflow import keras \n",
        "from tensorflow.keras import layers  \n",
        "\n",
        "def get_model():\n",
        "    model = keras.Sequential([\n",
        "        layers.Dense(512, activation=\"relu\"),\n",
        "        layers.Dense(10, activation=\"softmax\")\n",
        "    ])\n",
        "    model.compile(optimizer=\"rmsprop\",\n",
        "                  loss=\"sparse_categorical_crossentropy\",\n",
        "                  metrics=[\"accuracy\"])\n",
        "    return model \n",
        " \n",
        "model = get_model()\n",
        "history_noise = model.fit(\n",
        "    train_images_with_noise_channels, train_labels,\n",
        "    epochs=10,\n",
        "    batch_size=128,\n",
        "    validation_split=0.2)  \n",
        "\n",
        "model = get_model()\n",
        "history_zeros = model.fit(\n",
        "    train_images_with_zeros_channels, train_labels,\n",
        "    epochs=10,\n",
        "    batch_size=128,\n",
        "    validation_split=0.2)"
      ],
      "metadata": {
        "colab": {
          "base_uri": "https://localhost:8080/"
        },
        "id": "hIbVxwGFhb_V",
        "outputId": "b9ee82fd-93a9-4f26-e650-ce3720b0aac9"
      },
      "execution_count": 3,
      "outputs": [
        {
          "output_type": "stream",
          "name": "stdout",
          "text": [
            "Epoch 1/10\n",
            "375/375 [==============================] - 14s 34ms/step - loss: 0.6292 - accuracy: 0.8103 - val_loss: 0.3198 - val_accuracy: 0.9030\n",
            "Epoch 2/10\n",
            "375/375 [==============================] - 12s 33ms/step - loss: 0.2512 - accuracy: 0.9237 - val_loss: 0.2091 - val_accuracy: 0.9365\n",
            "Epoch 3/10\n",
            "375/375 [==============================] - 9s 24ms/step - loss: 0.1626 - accuracy: 0.9499 - val_loss: 0.1511 - val_accuracy: 0.9532\n",
            "Epoch 4/10\n",
            "375/375 [==============================] - 8s 20ms/step - loss: 0.1144 - accuracy: 0.9637 - val_loss: 0.1577 - val_accuracy: 0.9524\n",
            "Epoch 5/10\n",
            "375/375 [==============================] - 8s 22ms/step - loss: 0.0823 - accuracy: 0.9750 - val_loss: 0.1897 - val_accuracy: 0.9470\n",
            "Epoch 6/10\n",
            "375/375 [==============================] - 6s 16ms/step - loss: 0.0611 - accuracy: 0.9804 - val_loss: 0.1467 - val_accuracy: 0.9581\n",
            "Epoch 7/10\n",
            "375/375 [==============================] - 6s 16ms/step - loss: 0.0451 - accuracy: 0.9854 - val_loss: 0.1414 - val_accuracy: 0.9625\n",
            "Epoch 8/10\n",
            "375/375 [==============================] - 6s 16ms/step - loss: 0.0332 - accuracy: 0.9893 - val_loss: 0.1551 - val_accuracy: 0.9591\n",
            "Epoch 9/10\n",
            "375/375 [==============================] - 6s 16ms/step - loss: 0.0268 - accuracy: 0.9916 - val_loss: 0.1277 - val_accuracy: 0.9678\n",
            "Epoch 10/10\n",
            "375/375 [==============================] - 6s 16ms/step - loss: 0.0202 - accuracy: 0.9934 - val_loss: 0.1212 - val_accuracy: 0.9708\n",
            "Epoch 1/10\n",
            "375/375 [==============================] - 7s 16ms/step - loss: 0.2852 - accuracy: 0.9165 - val_loss: 0.1461 - val_accuracy: 0.9582\n",
            "Epoch 2/10\n",
            "375/375 [==============================] - 6s 16ms/step - loss: 0.1198 - accuracy: 0.9649 - val_loss: 0.1200 - val_accuracy: 0.9634\n",
            "Epoch 3/10\n",
            "375/375 [==============================] - 6s 16ms/step - loss: 0.0800 - accuracy: 0.9761 - val_loss: 0.0876 - val_accuracy: 0.9744\n",
            "Epoch 4/10\n",
            "375/375 [==============================] - 6s 16ms/step - loss: 0.0557 - accuracy: 0.9832 - val_loss: 0.0819 - val_accuracy: 0.9769\n",
            "Epoch 5/10\n",
            "375/375 [==============================] - 6s 16ms/step - loss: 0.0433 - accuracy: 0.9869 - val_loss: 0.0779 - val_accuracy: 0.9778\n",
            "Epoch 6/10\n",
            "375/375 [==============================] - 6s 17ms/step - loss: 0.0312 - accuracy: 0.9911 - val_loss: 0.0841 - val_accuracy: 0.9772\n",
            "Epoch 7/10\n",
            "375/375 [==============================] - 7s 20ms/step - loss: 0.0250 - accuracy: 0.9926 - val_loss: 0.0807 - val_accuracy: 0.9781\n",
            "Epoch 8/10\n",
            "375/375 [==============================] - 7s 19ms/step - loss: 0.0187 - accuracy: 0.9947 - val_loss: 0.0838 - val_accuracy: 0.9787\n",
            "Epoch 9/10\n",
            "375/375 [==============================] - 6s 16ms/step - loss: 0.0137 - accuracy: 0.9962 - val_loss: 0.0857 - val_accuracy: 0.9777\n",
            "Epoch 10/10\n",
            "375/375 [==============================] - 6s 16ms/step - loss: 0.0106 - accuracy: 0.9971 - val_loss: 0.0877 - val_accuracy: 0.9805\n"
          ]
        }
      ]
    },
    {
      "cell_type": "markdown",
      "source": [
        "### 코드 5-3 검증 정확도 비교 그래프 그리기"
      ],
      "metadata": {
        "id": "3iZ4Xfpch2Sn"
      }
    },
    {
      "cell_type": "code",
      "source": [
        "import matplotlib.pyplot as plt\n",
        "\n",
        "val_acc_noise = history_noise.history[\"val_accuracy\"]\n",
        "val_acc_zeros = history_zeros.history[\"val_accuracy\"]\n",
        "epochs = range(1, 11)\n",
        "plt.plot(epochs, val_acc_noise, \"b-\",\n",
        "         label=\"Validation accuracy with noise channels\")\n",
        "plt.plot(epochs, val_acc_zeros, \"b--\",\n",
        "         label=\"Validation accuracy with zeros channels\")\n",
        "plt.title(\"Effect of noise channels on validation accuracy\")\n",
        "plt.xlabel(\"Epochs\")\n",
        "plt.ylabel(\"Accuracy\")\n",
        "plt.legend()\n",
        "plt.show()"
      ],
      "metadata": {
        "colab": {
          "base_uri": "https://localhost:8080/",
          "height": 295
        },
        "id": "mUrC_WRohztg",
        "outputId": "967ec1a4-93e2-49cb-ee62-095bec44104e"
      },
      "execution_count": 4,
      "outputs": [
        {
          "output_type": "display_data",
          "data": {
            "text/plain": [
              "<Figure size 432x288 with 1 Axes>"
            ],
            "image/png": "[encoded data removed]"
          },
          "metadata": {
            "needs_background": "light"
          }
        }
      ]
    },
    {
      "cell_type": "markdown",
      "source": [
        "### 코드 5-4 랜덤하게 섞은 레이블로 MNIST 모델 훈련하기"
      ],
      "metadata": {
        "id": "4ben9KrCib6z"
      }
    },
    {
      "cell_type": "code",
      "source": [
        "(train_images, train_labels), _ = mnist.load_data()\n",
        "train_images = train_images.reshape((60000, 28 * 28))\n",
        "train_images = train_images.astype(\"float32\") / 255   \n",
        "\n",
        "random_train_labels = train_labels[:]\n",
        "np.random.shuffle(random_train_labels)  \n",
        "\n",
        "model = keras.Sequential([\n",
        "    layers.Dense(512, activation=\"relu\"),\n",
        "    layers.Dense(10, activation=\"softmax\")\n",
        "])\n",
        "model.compile(optimizer=\"rmsprop\",\n",
        "              loss=\"sparse_categorical_crossentropy\",\n",
        "              metrics=[\"accuracy\"])\n",
        "model.fit(train_images, random_train_labels,\n",
        "          epochs=100,\n",
        "          batch_size=128,\n",
        "          validation_split=0.2)"
      ],
      "metadata": {
        "colab": {
          "base_uri": "https://localhost:8080/"
        },
        "id": "vkrSOUfbiYam",
        "outputId": "5894d3f4-7026-4114-e0d9-32b2a0bee83c"
      },
      "execution_count": 5,
      "outputs": [
        {
          "output_type": "stream",
          "name": "stdout",
          "text": [
            "Epoch 1/100\n",
            "375/375 [==============================] - 4s 10ms/step - loss: 2.3164 - accuracy: 0.1039 - val_loss: 2.3066 - val_accuracy: 0.1014\n",
            "Epoch 2/100\n",
            "375/375 [==============================] - 4s 9ms/step - loss: 2.2997 - accuracy: 0.1157 - val_loss: 2.3111 - val_accuracy: 0.1004\n",
            "Epoch 3/100\n",
            "375/375 [==============================] - 4s 9ms/step - loss: 2.2907 - accuracy: 0.1286 - val_loss: 2.3202 - val_accuracy: 0.1002\n",
            "Epoch 4/100\n",
            "375/375 [==============================] - 4s 9ms/step - loss: 2.2764 - accuracy: 0.1415 - val_loss: 2.3329 - val_accuracy: 0.1008\n",
            "Epoch 5/100\n",
            "375/375 [==============================] - 3s 9ms/step - loss: 2.2597 - accuracy: 0.1545 - val_loss: 2.3394 - val_accuracy: 0.1039\n",
            "Epoch 6/100\n",
            "375/375 [==============================] - 4s 9ms/step - loss: 2.2374 - accuracy: 0.1696 - val_loss: 2.3611 - val_accuracy: 0.0956\n",
            "Epoch 7/100\n",
            "375/375 [==============================] - 3s 9ms/step - loss: 2.2133 - accuracy: 0.1846 - val_loss: 2.3694 - val_accuracy: 0.0964\n",
            "Epoch 8/100\n",
            "375/375 [==============================] - 3s 9ms/step - loss: 2.1859 - accuracy: 0.2010 - val_loss: 2.3855 - val_accuracy: 0.1014\n",
            "Epoch 9/100\n",
            "375/375 [==============================] - 3s 9ms/step - loss: 2.1565 - accuracy: 0.2161 - val_loss: 2.4060 - val_accuracy: 0.0990\n",
            "Epoch 10/100\n",
            "375/375 [==============================] - 3s 9ms/step - loss: 2.1268 - accuracy: 0.2337 - val_loss: 2.4300 - val_accuracy: 0.1007\n",
            "Epoch 11/100\n",
            "375/375 [==============================] - 3s 9ms/step - loss: 2.0930 - accuracy: 0.2476 - val_loss: 2.4519 - val_accuracy: 0.1010\n",
            "Epoch 12/100\n",
            "375/375 [==============================] - 4s 12ms/step - loss: 2.0585 - accuracy: 0.2653 - val_loss: 2.4745 - val_accuracy: 0.0998\n",
            "Epoch 13/100\n",
            "375/375 [==============================] - 3s 9ms/step - loss: 2.0249 - accuracy: 0.2790 - val_loss: 2.5076 - val_accuracy: 0.1006\n",
            "Epoch 14/100\n",
            "375/375 [==============================] - 3s 9ms/step - loss: 1.9913 - accuracy: 0.2933 - val_loss: 2.5285 - val_accuracy: 0.1019\n",
            "Epoch 15/100\n",
            "375/375 [==============================] - 3s 9ms/step - loss: 1.9576 - accuracy: 0.3081 - val_loss: 2.5696 - val_accuracy: 0.0978\n",
            "Epoch 16/100\n",
            "375/375 [==============================] - 3s 9ms/step - loss: 1.9203 - accuracy: 0.3247 - val_loss: 2.5872 - val_accuracy: 0.0995\n",
            "Epoch 17/100\n",
            "375/375 [==============================] - 3s 9ms/step - loss: 1.8870 - accuracy: 0.3375 - val_loss: 2.6336 - val_accuracy: 0.1023\n",
            "Epoch 18/100\n",
            "375/375 [==============================] - 3s 9ms/step - loss: 1.8522 - accuracy: 0.3505 - val_loss: 2.6589 - val_accuracy: 0.1021\n",
            "Epoch 19/100\n",
            "375/375 [==============================] - 3s 9ms/step - loss: 1.8202 - accuracy: 0.3637 - val_loss: 2.6947 - val_accuracy: 0.1018\n",
            "Epoch 20/100\n",
            "375/375 [==============================] - 3s 9ms/step - loss: 1.7884 - accuracy: 0.3754 - val_loss: 2.7225 - val_accuracy: 0.1037\n",
            "Epoch 21/100\n",
            "375/375 [==============================] - 3s 9ms/step - loss: 1.7540 - accuracy: 0.3885 - val_loss: 2.7758 - val_accuracy: 0.1029\n",
            "Epoch 22/100\n",
            "375/375 [==============================] - 3s 9ms/step - loss: 1.7251 - accuracy: 0.3987 - val_loss: 2.8016 - val_accuracy: 0.1028\n",
            "Epoch 23/100\n",
            "375/375 [==============================] - 4s 11ms/step - loss: 1.6934 - accuracy: 0.4163 - val_loss: 2.8655 - val_accuracy: 0.1028\n",
            "Epoch 24/100\n",
            "375/375 [==============================] - 3s 9ms/step - loss: 1.6637 - accuracy: 0.4235 - val_loss: 2.8957 - val_accuracy: 0.1018\n",
            "Epoch 25/100\n",
            "375/375 [==============================] - 3s 9ms/step - loss: 1.6340 - accuracy: 0.4334 - val_loss: 2.9335 - val_accuracy: 0.1026\n",
            "Epoch 26/100\n",
            "375/375 [==============================] - 3s 9ms/step - loss: 1.6042 - accuracy: 0.4498 - val_loss: 2.9826 - val_accuracy: 0.0998\n",
            "Epoch 27/100\n",
            "375/375 [==============================] - 3s 9ms/step - loss: 1.5782 - accuracy: 0.4570 - val_loss: 3.0021 - val_accuracy: 0.1025\n",
            "Epoch 28/100\n",
            "375/375 [==============================] - 3s 9ms/step - loss: 1.5504 - accuracy: 0.4676 - val_loss: 3.0467 - val_accuracy: 0.0993\n",
            "Epoch 29/100\n",
            "375/375 [==============================] - 3s 9ms/step - loss: 1.5252 - accuracy: 0.4754 - val_loss: 3.0884 - val_accuracy: 0.0981\n",
            "Epoch 30/100\n",
            "375/375 [==============================] - 3s 9ms/step - loss: 1.4990 - accuracy: 0.4860 - val_loss: 3.1450 - val_accuracy: 0.0997\n",
            "Epoch 31/100\n",
            "375/375 [==============================] - 3s 9ms/step - loss: 1.4697 - accuracy: 0.4993 - val_loss: 3.1724 - val_accuracy: 0.1036\n",
            "Epoch 32/100\n",
            "375/375 [==============================] - 3s 9ms/step - loss: 1.4462 - accuracy: 0.5064 - val_loss: 3.2267 - val_accuracy: 0.1024\n",
            "Epoch 33/100\n",
            "375/375 [==============================] - 3s 9ms/step - loss: 1.4204 - accuracy: 0.5160 - val_loss: 3.2932 - val_accuracy: 0.1006\n",
            "Epoch 34/100\n",
            "375/375 [==============================] - 3s 9ms/step - loss: 1.4001 - accuracy: 0.5232 - val_loss: 3.3462 - val_accuracy: 0.1011\n",
            "Epoch 35/100\n",
            "375/375 [==============================] - 3s 9ms/step - loss: 1.3740 - accuracy: 0.5323 - val_loss: 3.3552 - val_accuracy: 0.0995\n",
            "Epoch 36/100\n",
            "375/375 [==============================] - 3s 9ms/step - loss: 1.3520 - accuracy: 0.5395 - val_loss: 3.4516 - val_accuracy: 0.0997\n",
            "Epoch 37/100\n",
            "375/375 [==============================] - 3s 9ms/step - loss: 1.3280 - accuracy: 0.5493 - val_loss: 3.4704 - val_accuracy: 0.1037\n",
            "Epoch 38/100\n",
            "375/375 [==============================] - 3s 9ms/step - loss: 1.3079 - accuracy: 0.5556 - val_loss: 3.5317 - val_accuracy: 0.0994\n",
            "Epoch 39/100\n",
            "375/375 [==============================] - 3s 9ms/step - loss: 1.2858 - accuracy: 0.5633 - val_loss: 3.5571 - val_accuracy: 0.0994\n",
            "Epoch 40/100\n",
            "375/375 [==============================] - 3s 9ms/step - loss: 1.2652 - accuracy: 0.5735 - val_loss: 3.6401 - val_accuracy: 0.1003\n",
            "Epoch 41/100\n",
            "375/375 [==============================] - 4s 9ms/step - loss: 1.2463 - accuracy: 0.5777 - val_loss: 3.6650 - val_accuracy: 0.1020\n",
            "Epoch 42/100\n",
            "375/375 [==============================] - 3s 9ms/step - loss: 1.2234 - accuracy: 0.5854 - val_loss: 3.7309 - val_accuracy: 0.1000\n",
            "Epoch 43/100\n",
            "375/375 [==============================] - 3s 9ms/step - loss: 1.2051 - accuracy: 0.5937 - val_loss: 3.7810 - val_accuracy: 0.0997\n",
            "Epoch 44/100\n",
            "375/375 [==============================] - 3s 9ms/step - loss: 1.1859 - accuracy: 0.5997 - val_loss: 3.8138 - val_accuracy: 0.1073\n",
            "Epoch 45/100\n",
            "375/375 [==============================] - 3s 9ms/step - loss: 1.1666 - accuracy: 0.6078 - val_loss: 3.8499 - val_accuracy: 0.1032\n",
            "Epoch 46/100\n",
            "375/375 [==============================] - 3s 9ms/step - loss: 1.1464 - accuracy: 0.6134 - val_loss: 3.9079 - val_accuracy: 0.1010\n",
            "Epoch 47/100\n",
            "375/375 [==============================] - 3s 9ms/step - loss: 1.1303 - accuracy: 0.6199 - val_loss: 3.9768 - val_accuracy: 0.1028\n",
            "Epoch 48/100\n",
            "375/375 [==============================] - 4s 10ms/step - loss: 1.1100 - accuracy: 0.6278 - val_loss: 4.0238 - val_accuracy: 0.1025\n",
            "Epoch 49/100\n",
            "375/375 [==============================] - 4s 9ms/step - loss: 1.0945 - accuracy: 0.6310 - val_loss: 4.0778 - val_accuracy: 0.1004\n",
            "Epoch 50/100\n",
            "375/375 [==============================] - 4s 9ms/step - loss: 1.0728 - accuracy: 0.6403 - val_loss: 4.1628 - val_accuracy: 0.1042\n",
            "Epoch 51/100\n",
            "375/375 [==============================] - 3s 9ms/step - loss: 1.0602 - accuracy: 0.6455 - val_loss: 4.2069 - val_accuracy: 0.0983\n",
            "Epoch 52/100\n",
            "375/375 [==============================] - 4s 9ms/step - loss: 1.0438 - accuracy: 0.6507 - val_loss: 4.2542 - val_accuracy: 0.1013\n",
            "Epoch 53/100\n",
            "375/375 [==============================] - 4s 9ms/step - loss: 1.0254 - accuracy: 0.6555 - val_loss: 4.2985 - val_accuracy: 0.1003\n",
            "Epoch 54/100\n",
            "375/375 [==============================] - 3s 9ms/step - loss: 1.0083 - accuracy: 0.6635 - val_loss: 4.3570 - val_accuracy: 0.1063\n",
            "Epoch 55/100\n",
            "375/375 [==============================] - 3s 9ms/step - loss: 0.9951 - accuracy: 0.6681 - val_loss: 4.3993 - val_accuracy: 0.0993\n",
            "Epoch 56/100\n",
            "375/375 [==============================] - 4s 10ms/step - loss: 0.9782 - accuracy: 0.6755 - val_loss: 4.5019 - val_accuracy: 0.1029\n",
            "Epoch 57/100\n",
            "375/375 [==============================] - 4s 9ms/step - loss: 0.9639 - accuracy: 0.6792 - val_loss: 4.5282 - val_accuracy: 0.0993\n",
            "Epoch 58/100\n",
            "375/375 [==============================] - 3s 9ms/step - loss: 0.9483 - accuracy: 0.6871 - val_loss: 4.5852 - val_accuracy: 0.1031\n",
            "Epoch 59/100\n",
            "375/375 [==============================] - 3s 9ms/step - loss: 0.9341 - accuracy: 0.6908 - val_loss: 4.6365 - val_accuracy: 0.1023\n",
            "Epoch 60/100\n",
            "375/375 [==============================] - 3s 9ms/step - loss: 0.9200 - accuracy: 0.6970 - val_loss: 4.6965 - val_accuracy: 0.1034\n",
            "Epoch 61/100\n",
            "375/375 [==============================] - 3s 9ms/step - loss: 0.9063 - accuracy: 0.7018 - val_loss: 4.7610 - val_accuracy: 0.1026\n",
            "Epoch 62/100\n",
            "375/375 [==============================] - 3s 9ms/step - loss: 0.8924 - accuracy: 0.7061 - val_loss: 4.8147 - val_accuracy: 0.1029\n",
            "Epoch 63/100\n",
            "375/375 [==============================] - 3s 9ms/step - loss: 0.8773 - accuracy: 0.7106 - val_loss: 4.8929 - val_accuracy: 0.0987\n",
            "Epoch 64/100\n",
            "375/375 [==============================] - 3s 9ms/step - loss: 0.8657 - accuracy: 0.7146 - val_loss: 4.9366 - val_accuracy: 0.1039\n",
            "Epoch 65/100\n",
            "375/375 [==============================] - 3s 9ms/step - loss: 0.8520 - accuracy: 0.7188 - val_loss: 5.0721 - val_accuracy: 0.1031\n",
            "Epoch 66/100\n",
            "375/375 [==============================] - 3s 9ms/step - loss: 0.8368 - accuracy: 0.7252 - val_loss: 5.0614 - val_accuracy: 0.1015\n",
            "Epoch 67/100\n",
            "375/375 [==============================] - 3s 9ms/step - loss: 0.8278 - accuracy: 0.7287 - val_loss: 5.1331 - val_accuracy: 0.0997\n",
            "Epoch 68/100\n",
            "375/375 [==============================] - 3s 9ms/step - loss: 0.8140 - accuracy: 0.7321 - val_loss: 5.1941 - val_accuracy: 0.1031\n",
            "Epoch 69/100\n",
            "375/375 [==============================] - 3s 9ms/step - loss: 0.8004 - accuracy: 0.7365 - val_loss: 5.2882 - val_accuracy: 0.1006\n",
            "Epoch 70/100\n",
            "375/375 [==============================] - 3s 9ms/step - loss: 0.7896 - accuracy: 0.7420 - val_loss: 5.2614 - val_accuracy: 0.1010\n",
            "Epoch 71/100\n",
            "375/375 [==============================] - 4s 9ms/step - loss: 0.7784 - accuracy: 0.7442 - val_loss: 5.3607 - val_accuracy: 0.1018\n",
            "Epoch 72/100\n",
            "375/375 [==============================] - 4s 9ms/step - loss: 0.7642 - accuracy: 0.7497 - val_loss: 5.4171 - val_accuracy: 0.1016\n",
            "Epoch 73/100\n",
            "375/375 [==============================] - 4s 10ms/step - loss: 0.7538 - accuracy: 0.7541 - val_loss: 5.5069 - val_accuracy: 0.0988\n",
            "Epoch 74/100\n",
            "375/375 [==============================] - 6s 16ms/step - loss: 0.7453 - accuracy: 0.7565 - val_loss: 5.5515 - val_accuracy: 0.0998\n",
            "Epoch 75/100\n",
            "375/375 [==============================] - 5s 13ms/step - loss: 0.7343 - accuracy: 0.7599 - val_loss: 5.6015 - val_accuracy: 0.0983\n",
            "Epoch 76/100\n",
            "375/375 [==============================] - 3s 9ms/step - loss: 0.7243 - accuracy: 0.7645 - val_loss: 5.7528 - val_accuracy: 0.1029\n",
            "Epoch 77/100\n",
            "375/375 [==============================] - 3s 9ms/step - loss: 0.7111 - accuracy: 0.7675 - val_loss: 5.7442 - val_accuracy: 0.1026\n",
            "Epoch 78/100\n",
            "375/375 [==============================] - 3s 9ms/step - loss: 0.7012 - accuracy: 0.7747 - val_loss: 5.7976 - val_accuracy: 0.1002\n",
            "Epoch 79/100\n",
            "375/375 [==============================] - 3s 9ms/step - loss: 0.6923 - accuracy: 0.7750 - val_loss: 5.8736 - val_accuracy: 0.1002\n",
            "Epoch 80/100\n",
            "375/375 [==============================] - 3s 9ms/step - loss: 0.6775 - accuracy: 0.7803 - val_loss: 5.9158 - val_accuracy: 0.1006\n",
            "Epoch 81/100\n",
            "375/375 [==============================] - 3s 9ms/step - loss: 0.6716 - accuracy: 0.7831 - val_loss: 5.9826 - val_accuracy: 0.0998\n",
            "Epoch 82/100\n",
            "375/375 [==============================] - 3s 9ms/step - loss: 0.6606 - accuracy: 0.7846 - val_loss: 6.0239 - val_accuracy: 0.0993\n",
            "Epoch 83/100\n",
            "375/375 [==============================] - 3s 9ms/step - loss: 0.6499 - accuracy: 0.7890 - val_loss: 6.1267 - val_accuracy: 0.0982\n",
            "Epoch 84/100\n",
            "375/375 [==============================] - 3s 9ms/step - loss: 0.6422 - accuracy: 0.7919 - val_loss: 6.1806 - val_accuracy: 0.0991\n",
            "Epoch 85/100\n",
            "375/375 [==============================] - 3s 9ms/step - loss: 0.6330 - accuracy: 0.7947 - val_loss: 6.2271 - val_accuracy: 0.1037\n",
            "Epoch 86/100\n",
            "375/375 [==============================] - 3s 9ms/step - loss: 0.6230 - accuracy: 0.7987 - val_loss: 6.3001 - val_accuracy: 0.1000\n",
            "Epoch 87/100\n",
            "375/375 [==============================] - 3s 9ms/step - loss: 0.6141 - accuracy: 0.7998 - val_loss: 6.3926 - val_accuracy: 0.1032\n",
            "Epoch 88/100\n",
            "375/375 [==============================] - 3s 9ms/step - loss: 0.6051 - accuracy: 0.8048 - val_loss: 6.4405 - val_accuracy: 0.1031\n",
            "Epoch 89/100\n",
            "375/375 [==============================] - 3s 9ms/step - loss: 0.5986 - accuracy: 0.8066 - val_loss: 6.5265 - val_accuracy: 0.0990\n",
            "Epoch 90/100\n",
            "375/375 [==============================] - 4s 9ms/step - loss: 0.5884 - accuracy: 0.8105 - val_loss: 6.5673 - val_accuracy: 0.1018\n",
            "Epoch 91/100\n",
            "375/375 [==============================] - 3s 9ms/step - loss: 0.5802 - accuracy: 0.8123 - val_loss: 6.6282 - val_accuracy: 0.1011\n",
            "Epoch 92/100\n",
            "375/375 [==============================] - 3s 9ms/step - loss: 0.5718 - accuracy: 0.8148 - val_loss: 6.6766 - val_accuracy: 0.1011\n",
            "Epoch 93/100\n",
            "375/375 [==============================] - 3s 9ms/step - loss: 0.5618 - accuracy: 0.8206 - val_loss: 6.7597 - val_accuracy: 0.1007\n",
            "Epoch 94/100\n",
            "375/375 [==============================] - 3s 9ms/step - loss: 0.5544 - accuracy: 0.8239 - val_loss: 6.8511 - val_accuracy: 0.1022\n",
            "Epoch 95/100\n",
            "375/375 [==============================] - 3s 9ms/step - loss: 0.5474 - accuracy: 0.8252 - val_loss: 6.9483 - val_accuracy: 0.1007\n",
            "Epoch 96/100\n",
            "375/375 [==============================] - 3s 9ms/step - loss: 0.5395 - accuracy: 0.8257 - val_loss: 6.9587 - val_accuracy: 0.1041\n",
            "Epoch 97/100\n",
            "375/375 [==============================] - 3s 9ms/step - loss: 0.5331 - accuracy: 0.8302 - val_loss: 7.0555 - val_accuracy: 0.0991\n",
            "Epoch 98/100\n",
            "375/375 [==============================] - 3s 9ms/step - loss: 0.5249 - accuracy: 0.8310 - val_loss: 7.1199 - val_accuracy: 0.0978\n",
            "Epoch 99/100\n",
            "375/375 [==============================] - 3s 9ms/step - loss: 0.5191 - accuracy: 0.8328 - val_loss: 7.2337 - val_accuracy: 0.0985\n",
            "Epoch 100/100\n",
            "375/375 [==============================] - 3s 9ms/step - loss: 0.5090 - accuracy: 0.8373 - val_loss: 7.2382 - val_accuracy: 0.1011\n"
          ]
        },
        {
          "output_type": "execute_result",
          "data": {
            "text/plain": [
              "<keras.callbacks.History at 0x7f1c0e997040>"
            ]
          },
          "metadata": {},
          "execution_count": 5
        }
      ]
    },
    {
      "cell_type": "markdown",
      "source": [
        "### 코드 5-5 홀드아웃 검증 구현 예"
      ],
      "metadata": {
        "id": "QSkbQ9NqvmoP"
      }
    },
    {
      "cell_type": "code",
      "source": [],
      "metadata": {
        "id": "Bzsl_2vaijfj"
      },
      "execution_count": null,
      "outputs": []
    }
  ]
}