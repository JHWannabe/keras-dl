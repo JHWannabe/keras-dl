{
  "nbformat": 4,
  "nbformat_minor": 0,
  "metadata": {
    "colab": {
      "provenance": [],
      "authorship_tag": "ABX9TyP9HaWK+Uv7ccQTC5Hd8LLL",
      "include_colab_link": true
    },
    "kernelspec": {
      "name": "python3",
      "display_name": "Python 3"
    },
    "language_info": {
      "name": "python"
    }
  },
  "cells": [
    {
      "cell_type": "markdown",
      "metadata": {
        "id": "view-in-github",
        "colab_type": "text"
      },
      "source": [
        "<a href=\"https://colab.research.google.com/github/JHWannabe/keras-dl/blob/main/10%EC%9E%A5_%EC%BC%80%EB%9D%BC%EC%8A%A4_%EC%B0%BD%EC%8B%9C%EC%9E%90%EC%97%90%EA%B2%8C_%EB%B0%B0%EC%9A%B0%EB%8A%94_%EB%94%A5%EB%9F%AC%EB%8B%9D.ipynb\" target=\"_parent\"><img src=\"https://colab.research.google.com/assets/colab-badge.svg\" alt=\"Open In Colab\"/></a>"
      ]
    },
    {
      "cell_type": "markdown",
      "source": [
        "## 10.2 온도 예측 문제"
      ],
      "metadata": {
        "id": "lVMLsJwcr6yb"
      }
    },
    {
      "cell_type": "code",
      "execution_count": 1,
      "metadata": {
        "colab": {
          "base_uri": "https://localhost:8080/"
        },
        "id": "rbl2UsXIq2hx",
        "outputId": "492d5458-30ac-4411-cd92-bd03d20012a6"
      },
      "outputs": [
        {
          "output_type": "stream",
          "name": "stdout",
          "text": [
            "--2023-02-08 06:17:20--  https://s3.amazonaws.com/keras-datasets/jena_climate_2009_2016.csv.zip\n",
            "Resolving s3.amazonaws.com (s3.amazonaws.com)... 52.217.161.112, 52.217.224.136, 52.216.18.219, ...\n",
            "Connecting to s3.amazonaws.com (s3.amazonaws.com)|52.217.161.112|:443... connected.\n",
            "HTTP request sent, awaiting response... 200 OK\n",
            "Length: 13565642 (13M) [application/zip]\n",
            "Saving to: ‘jena_climate_2009_2016.csv.zip’\n",
            "\n",
            "jena_climate_2009_2 100%[===================>]  12.94M  12.7MB/s    in 1.0s    \n",
            "\n",
            "2023-02-08 06:17:22 (12.7 MB/s) - ‘jena_climate_2009_2016.csv.zip’ saved [13565642/13565642]\n",
            "\n",
            "Archive:  jena_climate_2009_2016.csv.zip\n",
            "  inflating: jena_climate_2009_2016.csv  \n",
            "  inflating: __MACOSX/._jena_climate_2009_2016.csv  \n"
          ]
        }
      ],
      "source": [
        "!wget https://s3.amazonaws.com/keras-datasets/jena_climate_2009_2016.csv.zip\n",
        "!unzip jena_climate_2009_2016.csv.zip"
      ]
    },
    {
      "cell_type": "code",
      "source": [
        "# 예나 날씨 데이터셋 조사하기기\n",
        "import os\n",
        "fname = os.path.join(\"jena_climate_2009_2016.csv\")  \n",
        "\n",
        "with open(fname) as f:\n",
        "    data = f.read()  \n",
        "\n",
        "lines = data.split(\"\\n\")\n",
        "header = lines[0].split(\",\")\n",
        "lines = lines[1:] \n",
        "print(header) \n",
        "print(len(lines))"
      ],
      "metadata": {
        "colab": {
          "base_uri": "https://localhost:8080/"
        },
        "id": "nClr-yO1q5CH",
        "outputId": "569e41af-764e-48c5-a73a-bb11f3515643"
      },
      "execution_count": 2,
      "outputs": [
        {
          "output_type": "stream",
          "name": "stdout",
          "text": [
            "['\"Date Time\"', '\"p (mbar)\"', '\"T (degC)\"', '\"Tpot (K)\"', '\"Tdew (degC)\"', '\"rh (%)\"', '\"VPmax (mbar)\"', '\"VPact (mbar)\"', '\"VPdef (mbar)\"', '\"sh (g/kg)\"', '\"H2OC (mmol/mol)\"', '\"rho (g/m**3)\"', '\"wv (m/s)\"', '\"max. wv (m/s)\"', '\"wd (deg)\"']\n",
            "420451\n"
          ]
        }
      ]
    },
    {
      "cell_type": "code",
      "source": [
        "# 데이터 파싱\n",
        "import numpy as np\n",
        "\n",
        "temperature = np.zeros((len(lines),))\n",
        "raw_data = np.zeros((len(lines), len(header) - 1)) \n",
        "for i, line in enumerate(lines):\n",
        "    values = [float(x) for x in line.split(\",\")[1:]]\n",
        "    temperature[i] = values[1]\n",
        "    raw_data[i, :] = values[:]"
      ],
      "metadata": {
        "id": "R285X66rrGAT"
      },
      "execution_count": 3,
      "outputs": []
    },
    {
      "cell_type": "code",
      "source": [
        "# 전체 온도를 그래프로 그리기\n",
        "from matplotlib import pyplot as plt\n",
        "\n",
        "plt.plot(range(len(temperature)), temperature)\n",
        "plt.show()"
      ],
      "metadata": {
        "colab": {
          "base_uri": "https://localhost:8080/",
          "height": 268
        },
        "id": "6z6PQuewrRMI",
        "outputId": "2ff0c116-3e14-4e1f-c09c-e5533f4ff587"
      },
      "execution_count": 4,
      "outputs": [
        {
          "output_type": "display_data",
          "data": {
            "text/plain": [
              "<Figure size 432x288 with 1 Axes>"
            ],
            "image/png": "[encoded data removed]"
          },
          "metadata": {
            "needs_background": "light"
          }
        }
      ]
    },
    {
      "cell_type": "code",
      "source": [
        "# 처음 100일간의 온도를 그래프로 그리기\n",
        "plt.plot(range(1440), temperature[:1440])\n",
        "plt.show()"
      ],
      "metadata": {
        "colab": {
          "base_uri": "https://localhost:8080/",
          "height": 265
        },
        "id": "GszrGnIbrUr-",
        "outputId": "e5b0294e-7401-40b6-9910-3306fa46d3dc"
      },
      "execution_count": 5,
      "outputs": [
        {
          "output_type": "display_data",
          "data": {
            "text/plain": [
              "<Figure size 432x288 with 1 Axes>"
            ],
            "image/png": "[encoded data removed]"
          },
          "metadata": {
            "needs_background": "light"
          }
        }
      ]
    },
    {
      "cell_type": "code",
      "source": [
        "# 각 분할에 사용할 샘플 개수 계산하기\n",
        "num_train_samples = int(0.5 * len(raw_data))\n",
        "num_val_samples = int(0.25 * len(raw_data))\n",
        "num_test_samples = len(raw_data) - num_train_samples - num_val_samples\n",
        "print(\"num_train_samples:\", num_train_samples)\n",
        "print(\"num_val_samples:\", num_val_samples)\n",
        "print(\"num_test_samples:\", num_test_samples)"
      ],
      "metadata": {
        "colab": {
          "base_uri": "https://localhost:8080/"
        },
        "id": "Qugh60UnrcUa",
        "outputId": "7eb9f46d-32ac-434d-8a2c-b79ee539713e"
      },
      "execution_count": 6,
      "outputs": [
        {
          "output_type": "stream",
          "name": "stdout",
          "text": [
            "num_train_samples: 210225\n",
            "num_val_samples: 105112\n",
            "num_test_samples: 105114\n"
          ]
        }
      ]
    },
    {
      "cell_type": "markdown",
      "source": [
        "### 10.2.1 데이터 준비"
      ],
      "metadata": {
        "id": "DiZ0pwX3sAxQ"
      }
    },
    {
      "cell_type": "code",
      "source": [
        "# 데이터 정규화\n",
        "mean = raw_data[:num_train_samples].mean(axis=0)\n",
        "raw_data -= mean\n",
        "std = raw_data[:num_train_samples].std(axis=0)\n",
        "raw_data /= std"
      ],
      "metadata": {
        "id": "B5mnoaJ2r3LV"
      },
      "execution_count": 7,
      "outputs": []
    },
    {
      "cell_type": "code",
      "source": [
        "# 훈련, 검증, 테스트 데이터셋 만들기\n",
        "import keras\n",
        "\n",
        "sampling_rate = 6 \n",
        "sequence_length = 120 \n",
        "delay = sampling_rate * (sequence_length + 24 - 1)\n",
        "batch_size = 256   \n",
        "\n",
        "train_dataset = keras.utils.timeseries_dataset_from_array(\n",
        "    raw_data[:-delay],\n",
        "    targets=temperature[delay:],\n",
        "    sampling_rate=sampling_rate,\n",
        "    sequence_length=sequence_length,\n",
        "    shuffle=True,\n",
        "    batch_size=batch_size,\n",
        "    start_index=0,\n",
        "    end_index=num_train_samples)  \n",
        "\n",
        "val_dataset = keras.utils.timeseries_dataset_from_array(\n",
        "    raw_data[:-delay],\n",
        "    targets=temperature[delay:],\n",
        "    sampling_rate=sampling_rate,\n",
        "    sequence_length=sequence_length,\n",
        "    shuffle=True,\n",
        "    batch_size=batch_size,\n",
        "    start_index=num_train_samples,\n",
        "    end_index=num_train_samples + num_val_samples)\n",
        "\n",
        "test_dataset = keras.utils.timeseries_dataset_from_array(\n",
        "    raw_data[:-delay],\n",
        "    targets=temperature[delay:],\n",
        "    sampling_rate=sampling_rate,\n",
        "    sequence_length=sequence_length,\n",
        "    shuffle=True,\n",
        "    batch_size=batch_size,\n",
        "    start_index=num_train_samples + num_val_samples)"
      ],
      "metadata": {
        "id": "cbm0cXsqsIyW"
      },
      "execution_count": 9,
      "outputs": []
    },
    {
      "cell_type": "code",
      "source": [
        "# 훈련 데이터셋의 배치 크기 확인하기\n",
        "for samples, targets in train_dataset:\n",
        "  print(\"샘플 크기:\", samples.shape)\n",
        "  print(\"타깃 크기:\", targets.shape)\n",
        "  break"
      ],
      "metadata": {
        "colab": {
          "base_uri": "https://localhost:8080/"
        },
        "id": "rldSncfutk45",
        "outputId": "8bd90584-ee82-4406-e085-02a026de8ead"
      },
      "execution_count": 10,
      "outputs": [
        {
          "output_type": "stream",
          "name": "stdout",
          "text": [
            "샘플 크기: (256, 120, 14)\n",
            "타깃 크기: (256,)\n"
          ]
        }
      ]
    },
    {
      "cell_type": "markdown",
      "source": [
        "### 10.2.2 상식 수준의 기준점"
      ],
      "metadata": {
        "id": "0YZHOnq0ucvc"
      }
    },
    {
      "cell_type": "code",
      "source": [
        "# 상식 수준 모델의 MAE 계산하기\n",
        "def evaluate_naive_method(dataset):\n",
        "    total_abs_err = 0. \n",
        "    samples_seen = 0 \n",
        "    for samples, targets in dataset:\n",
        "        preds = samples[:, -1, 1] * std[1] + mean[1]\n",
        "        total_abs_err += np.sum(np.abs(preds - targets))\n",
        "        samples_seen += samples.shape[0]\n",
        "    return total_abs_err / samples_seen  \n",
        "\n",
        "print(f\"검증 MAE: {evaluate_naive_method(val_dataset):.2f}\") \n",
        "print(f\"테스트 MAE: {evaluate_naive_method(test_dataset):.2f}\")"
      ],
      "metadata": {
        "colab": {
          "base_uri": "https://localhost:8080/"
        },
        "id": "x8o8ssUMtyTw",
        "outputId": "4a671dcb-00c9-4014-d2da-18b57fd1acf8"
      },
      "execution_count": 11,
      "outputs": [
        {
          "output_type": "stream",
          "name": "stdout",
          "text": [
            "검증 MAE: 2.44\n",
            "테스트 MAE: 2.62\n"
          ]
        }
      ]
    },
    {
      "cell_type": "markdown",
      "source": [
        "### 10.2.3 기본적인 머신 러닝 모델 시도해 보기"
      ],
      "metadata": {
        "id": "W9bo-DTBujoI"
      }
    },
    {
      "cell_type": "code",
      "source": [
        "# 밀집 연결 모델 훈련하고 평가하기\n",
        "from tensorflow import keras\n",
        "from tensorflow.keras import layers\n",
        "\n",
        "inputs = keras.Input(shape=(sequence_length, raw_data.shape[-1]))\n",
        "x = layers.Flatten()(inputs)\n",
        "x = layers.Dense(16, activation=\"relu\")(x)\n",
        "outputs = layers.Dense(1)(x)\n",
        "model = keras.Model(inputs, outputs)  \n",
        "\n",
        "callbacks = [\n",
        "    keras.callbacks.ModelCheckpoint(\"jena_dense.keras\", save_best_only=True)\n",
        "] \n",
        "model.compile(optimizer=\"rmsprop\", loss=\"mse\", metrics=[\"mae\"])\n",
        "history = model.fit(train_dataset,\n",
        "                    epochs=10,\n",
        "                    validation_data=val_dataset,\n",
        "                    callbacks=callbacks)  \n",
        "\n",
        "model = keras.models.load_model(\"jena_dense.keras\")     \n",
        "print(f\"테스트 MAE: {model.evaluate(test_dataset)[1]:.2f}\")"
      ],
      "metadata": {
        "colab": {
          "base_uri": "https://localhost:8080/"
        },
        "id": "gFmhOhSDuhh2",
        "outputId": "f9ad3e39-83ae-427f-b33b-5d7522de37f6"
      },
      "execution_count": 12,
      "outputs": [
        {
          "output_type": "stream",
          "name": "stdout",
          "text": [
            "Epoch 1/10\n",
            "819/819 [==============================] - 59s 70ms/step - loss: 14.1722 - mae: 2.8924 - val_loss: 11.6630 - val_mae: 2.6950\n",
            "Epoch 2/10\n",
            "819/819 [==============================] - 55s 66ms/step - loss: 9.2688 - mae: 2.3940 - val_loss: 11.2280 - val_mae: 2.6434\n",
            "Epoch 3/10\n",
            "819/819 [==============================] - 56s 68ms/step - loss: 8.4900 - mae: 2.2949 - val_loss: 12.0445 - val_mae: 2.7522\n",
            "Epoch 4/10\n",
            "819/819 [==============================] - 57s 69ms/step - loss: 7.9837 - mae: 2.2264 - val_loss: 11.4494 - val_mae: 2.6838\n",
            "Epoch 5/10\n",
            "819/819 [==============================] - 55s 67ms/step - loss: 7.6792 - mae: 2.1853 - val_loss: 11.2874 - val_mae: 2.6563\n",
            "Epoch 6/10\n",
            "819/819 [==============================] - 55s 67ms/step - loss: 7.4550 - mae: 2.1539 - val_loss: 10.8217 - val_mae: 2.6083\n",
            "Epoch 7/10\n",
            "819/819 [==============================] - 56s 68ms/step - loss: 7.2315 - mae: 2.1229 - val_loss: 10.6173 - val_mae: 2.5839\n",
            "Epoch 8/10\n",
            "819/819 [==============================] - 56s 67ms/step - loss: 7.0744 - mae: 2.0983 - val_loss: 10.9527 - val_mae: 2.6277\n",
            "Epoch 9/10\n",
            "819/819 [==============================] - 51s 62ms/step - loss: 6.9401 - mae: 2.0801 - val_loss: 11.0801 - val_mae: 2.6370\n",
            "Epoch 10/10\n",
            "819/819 [==============================] - 52s 63ms/step - loss: 6.8462 - mae: 2.0661 - val_loss: 11.5533 - val_mae: 2.6980\n",
            "405/405 [==============================] - 17s 42ms/step - loss: 11.6539 - mae: 2.6856\n",
            "테스트 MAE: 2.69\n"
          ]
        }
      ]
    },
    {
      "cell_type": "code",
      "source": [
        "# 결과 그래프 그리기\n",
        "import matplotlib.pyplot as plt\n",
        "\n",
        "loss = history.history[\"mae\"]\n",
        "val_loss = history.history[\"val_mae\"]\n",
        "epochs = range(1, len(loss) + 1)\n",
        "plt.figure()\n",
        "plt.plot(epochs, loss, \"bo\", label=\"Training MAE\")\n",
        "plt.plot(epochs, val_loss, \"b\", label=\"Validation MAE\")\n",
        "plt.title(\"Training and validation MAE\")\n",
        "plt.legend()\n",
        "plt.show()"
      ],
      "metadata": {
        "colab": {
          "base_uri": "https://localhost:8080/",
          "height": 281
        },
        "id": "aYAP4bTvuujj",
        "outputId": "57bc1f05-f28c-49c4-f152-d848612c5129"
      },
      "execution_count": 13,
      "outputs": [
        {
          "output_type": "display_data",
          "data": {
            "text/plain": [
              "<Figure size 432x288 with 1 Axes>"
            ],
            "image/png": "[encoded data removed]"
          },
          "metadata": {
            "needs_background": "light"
          }
        }
      ]
    },
    {
      "cell_type": "markdown",
      "source": [
        "### 10.2.4 1D 합성곱 모델 시도해 보기"
      ],
      "metadata": {
        "id": "7o-mMbqNu6c2"
      }
    },
    {
      "cell_type": "code",
      "source": [
        "inputs = keras.Input(shape=(sequence_length, raw_data.shape[-1]))\n",
        "x = layers.Conv1D(8, 24, activation=\"relu\")(inputs)\n",
        "x = layers.MaxPooling1D(2)(x)\n",
        "x = layers.Conv1D(8, 12, activation=\"relu\")(x)\n",
        "x = layers.MaxPooling1D(2)(x)\n",
        "x = layers.Conv1D(8, 6, activation=\"relu\")(x)\n",
        "x = layers.GlobalAveragePooling1D()(x)\n",
        "outputs = layers.Dense(1)(x)\n",
        "model = keras.Model(inputs, outputs)  \n",
        "\n",
        "callbacks = [\n",
        "    keras.callbacks.ModelCheckpoint(\"jena_conv.keras\",\n",
        "                                    save_best_only=True)\n",
        "]\n",
        "model.compile(optimizer=\"rmsprop\", loss=\"mse\", metrics=[\"mae\"])\n",
        "history = model.fit(train_dataset,\n",
        "                    epochs=10,\n",
        "                    validation_data=val_dataset,\n",
        "                    callbacks=callbacks)  \n",
        "\n",
        "model = keras.models.load_model(\"jena_conv.keras\")\n",
        "print(f\"테스트 MAE: {model.evaluate(test_dataset)[1]:.2f}\")"
      ],
      "metadata": {
        "colab": {
          "base_uri": "https://localhost:8080/"
        },
        "id": "GjKiO4iNu4jV",
        "outputId": "a78bbb15-eac6-4939-aa15-43144b2b1f70"
      },
      "execution_count": 14,
      "outputs": [
        {
          "output_type": "stream",
          "name": "stdout",
          "text": [
            "Epoch 1/10\n",
            "819/819 [==============================] - 74s 89ms/step - loss: 22.5269 - mae: 3.7235 - val_loss: 15.9957 - val_mae: 3.1861\n",
            "Epoch 2/10\n",
            "819/819 [==============================] - 73s 88ms/step - loss: 15.8886 - mae: 3.1719 - val_loss: 14.6134 - val_mae: 3.0422\n",
            "Epoch 3/10\n",
            "819/819 [==============================] - 72s 88ms/step - loss: 14.4475 - mae: 3.0238 - val_loss: 18.1993 - val_mae: 3.3822\n",
            "Epoch 4/10\n",
            "819/819 [==============================] - 75s 91ms/step - loss: 13.5011 - mae: 2.9231 - val_loss: 15.2311 - val_mae: 3.0923\n",
            "Epoch 5/10\n",
            "819/819 [==============================] - 75s 91ms/step - loss: 12.7890 - mae: 2.8460 - val_loss: 14.9087 - val_mae: 3.0463\n",
            "Epoch 6/10\n",
            "819/819 [==============================] - 75s 92ms/step - loss: 12.1843 - mae: 2.7735 - val_loss: 15.1193 - val_mae: 3.0806\n",
            "Epoch 7/10\n",
            "819/819 [==============================] - 74s 90ms/step - loss: 11.6964 - mae: 2.7180 - val_loss: 14.1820 - val_mae: 2.9716\n",
            "Epoch 8/10\n",
            "819/819 [==============================] - 75s 91ms/step - loss: 11.2979 - mae: 2.6697 - val_loss: 14.5244 - val_mae: 3.0019\n",
            "Epoch 9/10\n",
            "819/819 [==============================] - 74s 89ms/step - loss: 10.9486 - mae: 2.6280 - val_loss: 15.8579 - val_mae: 3.1657\n",
            "Epoch 10/10\n",
            "819/819 [==============================] - 74s 90ms/step - loss: 10.6532 - mae: 2.5879 - val_loss: 14.2791 - val_mae: 2.9855\n",
            "405/405 [==============================] - 19s 47ms/step - loss: 16.0158 - mae: 3.1601\n",
            "테스트 MAE: 3.16\n"
          ]
        }
      ]
    },
    {
      "cell_type": "code",
      "source": [
        "# 결과 그래프 그리기\n",
        "loss = history.history[\"mae\"]\n",
        "val_loss = history.history[\"val_mae\"]\n",
        "epochs = range(1, len(loss) + 1)\n",
        "plt.figure()\n",
        "plt.plot(epochs, loss, \"bo\", label=\"Training MAE\")\n",
        "plt.plot(epochs, val_loss, \"b\", label=\"Validation MAE\")\n",
        "plt.title(\"Training and validation MAE\")\n",
        "plt.legend()\n",
        "plt.show()"
      ],
      "metadata": {
        "colab": {
          "base_uri": "https://localhost:8080/",
          "height": 281
        },
        "id": "YKzuV6XVvCra",
        "outputId": "67220649-5b06-40a8-c182-781e48c748dd"
      },
      "execution_count": 15,
      "outputs": [
        {
          "output_type": "display_data",
          "data": {
            "text/plain": [
              "<Figure size 432x288 with 1 Axes>"
            ],
            "image/png": "[encoded data removed]"
          },
          "metadata": {
            "needs_background": "light"
          }
        }
      ]
    },
    {
      "cell_type": "markdown",
      "source": [
        "### 10.2.5 첫 번째 순환 신경망"
      ],
      "metadata": {
        "id": "k4QtKXla3RzJ"
      }
    },
    {
      "cell_type": "code",
      "source": [
        "# 간단한 LSTM 기반 모델\n",
        "inputs = keras.Input(shape=(sequence_length, raw_data.shape[-1]))\n",
        "x = layers.LSTM(16)(inputs)\n",
        "outputs = layers.Dense(1)(x)\n",
        "model = keras.Model(inputs, outputs) \n",
        " \n",
        "callbacks = [\n",
        "    keras.callbacks.ModelCheckpoint(\"jena_lstm.keras\",\n",
        "                                    save_best_only=True)\n",
        "]\n",
        "model.compile(optimizer=\"rmsprop\", loss=\"mse\", metrics=[\"mae\"])\n",
        "history = model.fit(train_dataset,\n",
        "                    epochs=10,\n",
        "                    validation_data=val_dataset,\n",
        "                    callbacks=callbacks)\n",
        "model = keras.models.load_model(\"jena_lstm.keras\") \n",
        "print(f\"테스트 MAE: {model.evaluate(test_dataset)[1]:.2f}\")"
      ],
      "metadata": {
        "colab": {
          "base_uri": "https://localhost:8080/"
        },
        "id": "P_MUDojJvqwN",
        "outputId": "fe0b327e-8c4c-41a1-87f6-4e68d69b10ba"
      },
      "execution_count": 16,
      "outputs": [
        {
          "output_type": "stream",
          "name": "stdout",
          "text": [
            "Epoch 1/10\n",
            "819/819 [==============================] - 98s 116ms/step - loss: 44.4307 - mae: 4.8446 - val_loss: 12.9821 - val_mae: 2.7376\n",
            "Epoch 2/10\n",
            "819/819 [==============================] - 92s 112ms/step - loss: 11.1772 - mae: 2.6073 - val_loss: 9.6563 - val_mae: 2.4146\n",
            "Epoch 3/10\n",
            "819/819 [==============================] - 96s 116ms/step - loss: 9.9150 - mae: 2.4636 - val_loss: 9.4791 - val_mae: 2.4038\n",
            "Epoch 4/10\n",
            "819/819 [==============================] - 96s 117ms/step - loss: 9.4097 - mae: 2.3945 - val_loss: 9.3087 - val_mae: 2.3747\n",
            "Epoch 5/10\n",
            "819/819 [==============================] - 105s 128ms/step - loss: 9.1049 - mae: 2.3523 - val_loss: 9.5723 - val_mae: 2.3694\n",
            "Epoch 6/10\n",
            "819/819 [==============================] - 98s 119ms/step - loss: 8.8368 - mae: 2.3207 - val_loss: 9.2773 - val_mae: 2.3492\n",
            "Epoch 7/10\n",
            "819/819 [==============================] - 98s 119ms/step - loss: 8.6359 - mae: 2.2916 - val_loss: 9.0921 - val_mae: 2.3329\n",
            "Epoch 8/10\n",
            "819/819 [==============================] - 96s 117ms/step - loss: 8.4710 - mae: 2.2678 - val_loss: 9.5245 - val_mae: 2.3735\n",
            "Epoch 9/10\n",
            "819/819 [==============================] - 96s 117ms/step - loss: 8.3096 - mae: 2.2436 - val_loss: 9.5618 - val_mae: 2.3828\n",
            "Epoch 10/10\n",
            "819/819 [==============================] - 97s 118ms/step - loss: 8.2300 - mae: 2.2314 - val_loss: 9.3406 - val_mae: 2.3641\n",
            "405/405 [==============================] - 23s 54ms/step - loss: 10.5851 - mae: 2.5432\n",
            "테스트 MAE: 2.54\n"
          ]
        }
      ]
    },
    {
      "cell_type": "code",
      "source": [
        "# 결과 그래프 그리기\n",
        "loss = history.history[\"mae\"]\n",
        "val_loss = history.history[\"val_mae\"]\n",
        "epochs = range(1, len(loss) + 1)\n",
        "plt.figure()\n",
        "plt.plot(epochs, loss, \"bo\", label=\"Training MAE\")\n",
        "plt.plot(epochs, val_loss, \"b\", label=\"Validation MAE\")\n",
        "plt.title(\"Training and validation MAE\")\n",
        "plt.legend()\n",
        "plt.show()"
      ],
      "metadata": {
        "colab": {
          "base_uri": "https://localhost:8080/",
          "height": 281
        },
        "id": "d4VOeyDL3ZjK",
        "outputId": "109f5de8-fa7e-4658-ccf3-252e3dc5f7be"
      },
      "execution_count": 17,
      "outputs": [
        {
          "output_type": "display_data",
          "data": {
            "text/plain": [
              "<Figure size 432x288 with 1 Axes>"
            ],
            "image/png": "[encoded data removed]"
          },
          "metadata": {
            "needs_background": "light"
          }
        }
      ]
    },
    {
      "cell_type": "markdown",
      "source": [
        "### 10.3 순환 신경망 이해하기"
      ],
      "metadata": {
        "id": "YWpj20bd3kjf"
      }
    },
    {
      "cell_type": "markdown",
      "source": [
        "### 10.3.1 케라스의 순환 층"
      ],
      "metadata": {
        "id": "8otojuwA9AIB"
      }
    },
    {
      "cell_type": "code",
      "source": [
        "# 어떤 길이의 시퀀스도 처리할 수 있는 RNN 층\n",
        "num_features = 14 \n",
        "inputs = keras.Input(shape=(None, num_features))\n",
        "outputs = layers.SimpleRNN(16)(inputs)"
      ],
      "metadata": {
        "id": "_jPqScy_5ro8"
      },
      "execution_count": 19,
      "outputs": []
    },
    {
      "cell_type": "code",
      "source": [
        "# 마지막 출력 스텝만 반환하는 RNN 층\n",
        "num_features = 14 \n",
        "steps = 120 \n",
        "inputs = keras.Input(shape=(steps, num_features))\n",
        "outputs = layers.SimpleRNN(16, return_sequences=False)(inputs)\n",
        "print(outputs.shape)"
      ],
      "metadata": {
        "colab": {
          "base_uri": "https://localhost:8080/"
        },
        "id": "qZxC82qW9F_n",
        "outputId": "233bbfed-342e-4494-8322-49a26fb02775"
      },
      "execution_count": 21,
      "outputs": [
        {
          "output_type": "stream",
          "name": "stdout",
          "text": [
            "(None, 16)\n"
          ]
        }
      ]
    },
    {
      "cell_type": "code",
      "source": [
        "# 전체 출력 시퀀스를 반환하는 RNN 층\n",
        "num_features = 14 \n",
        "steps = 120 \n",
        "inputs = keras.Input(shape=(steps, num_features))\n",
        "outputs = layers.SimpleRNN(16, return_sequences=True)(inputs)\n",
        "print(outputs.shape)"
      ],
      "metadata": {
        "colab": {
          "base_uri": "https://localhost:8080/"
        },
        "id": "Shm6npK69HsY",
        "outputId": "8fef9662-4013-404d-c819-c7de643d3b53"
      },
      "execution_count": 22,
      "outputs": [
        {
          "output_type": "stream",
          "name": "stdout",
          "text": [
            "(None, 120, 16)\n"
          ]
        }
      ]
    },
    {
      "cell_type": "code",
      "source": [
        "# 스태킹(stacking) RNN 층\n",
        "inputs = keras.Input(shape=(steps, num_features))\n",
        "x = layers.SimpleRNN(16, return_sequences=True)(inputs)\n",
        "x = layers.SimpleRNN(16, return_sequences=True)(x)\n",
        "outputs = layers.SimpleRNN(16)(x)"
      ],
      "metadata": {
        "id": "_uGeXOcL9hPg"
      },
      "execution_count": 23,
      "outputs": []
    },
    {
      "cell_type": "code",
      "source": [
        "# LSTM 구조의 의사 코드(1/2)\n",
        "output_t = activation(c_t) * activation(dot(input_t, Wo) + dot(state_t, Uo) + bo)\n",
        "i_t = activation(dot(state_t, Ui) + dot(input_t, Wi) + bi)\n",
        "f_t = activation(dot(state_t, Uf) + dot(input_t, Wf) + bf)\n",
        "k_t = activation(dot(state_t, Uk) + dot(input_t, Wk) + bk)"
      ],
      "metadata": {
        "colab": {
          "base_uri": "https://localhost:8080/",
          "height": 242
        },
        "id": "XwfUNe-n9k1T",
        "outputId": "a98c05c6-9392-4340-bf01-fd7285b9feaf"
      },
      "execution_count": 24,
      "outputs": [
        {
          "output_type": "error",
          "ename": "NameError",
          "evalue": "ignored",
          "traceback": [
            "\u001b[0;31m---------------------------------------------------------------------------\u001b[0m",
            "\u001b[0;31mNameError\u001b[0m                                 Traceback (most recent call last)",
            "\u001b[0;32m<ipython-input-24-42396315ec97>\u001b[0m in \u001b[0;36m<module>\u001b[0;34m\u001b[0m\n\u001b[1;32m      1\u001b[0m \u001b[0;31m# LSTM 구조의 의사 코드(1/2)\u001b[0m\u001b[0;34m\u001b[0m\u001b[0;34m\u001b[0m\u001b[0;34m\u001b[0m\u001b[0m\n\u001b[0;32m----> 2\u001b[0;31m \u001b[0moutput_t\u001b[0m \u001b[0;34m=\u001b[0m \u001b[0mactivation\u001b[0m\u001b[0;34m(\u001b[0m\u001b[0mc_t\u001b[0m\u001b[0;34m)\u001b[0m \u001b[0;34m*\u001b[0m \u001b[0mactivation\u001b[0m\u001b[0;34m(\u001b[0m\u001b[0mdot\u001b[0m\u001b[0;34m(\u001b[0m\u001b[0minput_t\u001b[0m\u001b[0;34m,\u001b[0m \u001b[0mWo\u001b[0m\u001b[0;34m)\u001b[0m \u001b[0;34m+\u001b[0m \u001b[0mdot\u001b[0m\u001b[0;34m(\u001b[0m\u001b[0mstate_t\u001b[0m\u001b[0;34m,\u001b[0m \u001b[0mUo\u001b[0m\u001b[0;34m)\u001b[0m \u001b[0;34m+\u001b[0m \u001b[0mbo\u001b[0m\u001b[0;34m)\u001b[0m\u001b[0;34m\u001b[0m\u001b[0;34m\u001b[0m\u001b[0m\n\u001b[0m\u001b[1;32m      3\u001b[0m \u001b[0mi_t\u001b[0m \u001b[0;34m=\u001b[0m \u001b[0mactivation\u001b[0m\u001b[0;34m(\u001b[0m\u001b[0mdot\u001b[0m\u001b[0;34m(\u001b[0m\u001b[0mstate_t\u001b[0m\u001b[0;34m,\u001b[0m \u001b[0mUi\u001b[0m\u001b[0;34m)\u001b[0m \u001b[0;34m+\u001b[0m \u001b[0mdot\u001b[0m\u001b[0;34m(\u001b[0m\u001b[0minput_t\u001b[0m\u001b[0;34m,\u001b[0m \u001b[0mWi\u001b[0m\u001b[0;34m)\u001b[0m \u001b[0;34m+\u001b[0m \u001b[0mbi\u001b[0m\u001b[0;34m)\u001b[0m\u001b[0;34m\u001b[0m\u001b[0;34m\u001b[0m\u001b[0m\n\u001b[1;32m      4\u001b[0m \u001b[0mf_t\u001b[0m \u001b[0;34m=\u001b[0m \u001b[0mactivation\u001b[0m\u001b[0;34m(\u001b[0m\u001b[0mdot\u001b[0m\u001b[0;34m(\u001b[0m\u001b[0mstate_t\u001b[0m\u001b[0;34m,\u001b[0m \u001b[0mUf\u001b[0m\u001b[0;34m)\u001b[0m \u001b[0;34m+\u001b[0m \u001b[0mdot\u001b[0m\u001b[0;34m(\u001b[0m\u001b[0minput_t\u001b[0m\u001b[0;34m,\u001b[0m \u001b[0mWf\u001b[0m\u001b[0;34m)\u001b[0m \u001b[0;34m+\u001b[0m \u001b[0mbf\u001b[0m\u001b[0;34m)\u001b[0m\u001b[0;34m\u001b[0m\u001b[0;34m\u001b[0m\u001b[0m\n\u001b[1;32m      5\u001b[0m \u001b[0mk_t\u001b[0m \u001b[0;34m=\u001b[0m \u001b[0mactivation\u001b[0m\u001b[0;34m(\u001b[0m\u001b[0mdot\u001b[0m\u001b[0;34m(\u001b[0m\u001b[0mstate_t\u001b[0m\u001b[0;34m,\u001b[0m \u001b[0mUk\u001b[0m\u001b[0;34m)\u001b[0m \u001b[0;34m+\u001b[0m \u001b[0mdot\u001b[0m\u001b[0;34m(\u001b[0m\u001b[0minput_t\u001b[0m\u001b[0;34m,\u001b[0m \u001b[0mWk\u001b[0m\u001b[0;34m)\u001b[0m \u001b[0;34m+\u001b[0m \u001b[0mbk\u001b[0m\u001b[0;34m)\u001b[0m\u001b[0;34m\u001b[0m\u001b[0;34m\u001b[0m\u001b[0m\n",
            "\u001b[0;31mNameError\u001b[0m: name 'activation' is not defined"
          ]
        }
      ]
    },
    {
      "cell_type": "code",
      "source": [
        "# LSTM 구조의 의사 코드(2/2)\n",
        "c_t+1 = i_t * k_t + c_t * f_t"
      ],
      "metadata": {
        "id": "Xan_jssj_dDd"
      },
      "execution_count": null,
      "outputs": []
    },
    {
      "cell_type": "markdown",
      "source": [
        "## 10.4 순환 신경망의 고급 사용법"
      ],
      "metadata": {
        "id": "ZOiGxFPq_nQE"
      }
    },
    {
      "cell_type": "markdown",
      "source": [
        "### 10.4.1 과대적합을 감소하기 위해 순환 드롭아웃 사용하기"
      ],
      "metadata": {
        "id": "mJ2pgp63Av1_"
      }
    },
    {
      "cell_type": "code",
      "source": [
        "# 드롭아웃 규제를 적용한 LSTM 모델 훈련하고 평가하기\n",
        "inputs = keras.Input(shape=(sequence_length, raw_data.shape[-1]))\n",
        "x = layers.LSTM(32, recurrent_dropout=0.25)(inputs)\n",
        "x = layers.Dropout(0.5)(x)\n",
        "outputs = layers.Dense(1)(x)\n",
        "model = keras.Model(inputs, outputs)\n",
        "\n",
        "callbacks = [\n",
        "    keras.callbacks.ModelCheckpoint(\"jena_lstm_dropout.keras\", save_best_only=True)\n",
        "]\n",
        "model.compile(optimizer=\"rmsprop\", loss=\"mse\", metrics=[\"mae\"])\n",
        "history = model.fit(train_dataset, epochs=50, validation_data=val_dataset, callbacks=callbacks)"
      ],
      "metadata": {
        "colab": {
          "base_uri": "https://localhost:8080/"
        },
        "id": "8Fp6KYAa_l66",
        "outputId": "1dc8c140-00b9-4e57-8779-dbf12e0bb288"
      },
      "execution_count": 26,
      "outputs": [
        {
          "output_type": "stream",
          "name": "stdout",
          "text": [
            "Epoch 1/50\n",
            "819/819 [==============================] - 190s 228ms/step - loss: 25.1300 - mae: 3.7260 - val_loss: 9.8117 - val_mae: 2.4317\n",
            "Epoch 2/50\n",
            "819/819 [==============================] - 181s 221ms/step - loss: 14.7885 - mae: 2.9833 - val_loss: 9.2686 - val_mae: 2.3571\n",
            "Epoch 3/50\n",
            "819/819 [==============================] - 177s 216ms/step - loss: 13.8084 - mae: 2.8805 - val_loss: 9.6820 - val_mae: 2.4136\n",
            "Epoch 4/50\n",
            "819/819 [==============================] - 184s 224ms/step - loss: 13.1265 - mae: 2.8067 - val_loss: 9.6932 - val_mae: 2.4185\n",
            "Epoch 5/50\n",
            "819/819 [==============================] - 182s 222ms/step - loss: 12.6287 - mae: 2.7552 - val_loss: 9.8925 - val_mae: 2.4485\n",
            "Epoch 6/50\n",
            "819/819 [==============================] - 192s 234ms/step - loss: 12.3613 - mae: 2.7238 - val_loss: 9.5102 - val_mae: 2.3996\n",
            "Epoch 7/50\n",
            "819/819 [==============================] - 189s 231ms/step - loss: 12.0813 - mae: 2.6911 - val_loss: 9.4904 - val_mae: 2.4067\n",
            "Epoch 8/50\n",
            "819/819 [==============================] - 197s 241ms/step - loss: 11.8118 - mae: 2.6631 - val_loss: 9.9623 - val_mae: 2.4526\n",
            "Epoch 9/50\n",
            "819/819 [==============================] - 203s 247ms/step - loss: 11.5272 - mae: 2.6302 - val_loss: 9.8786 - val_mae: 2.4375\n",
            "Epoch 10/50\n",
            "819/819 [==============================] - 196s 239ms/step - loss: 11.3680 - mae: 2.6132 - val_loss: 10.1180 - val_mae: 2.4710\n",
            "Epoch 11/50\n",
            "819/819 [==============================] - 196s 239ms/step - loss: 11.1588 - mae: 2.5874 - val_loss: 9.6675 - val_mae: 2.4111\n",
            "Epoch 12/50\n",
            "819/819 [==============================] - 184s 224ms/step - loss: 11.0260 - mae: 2.5728 - val_loss: 10.0913 - val_mae: 2.4624\n",
            "Epoch 13/50\n",
            "819/819 [==============================] - 194s 237ms/step - loss: 10.9194 - mae: 2.5609 - val_loss: 10.1254 - val_mae: 2.4713\n",
            "Epoch 14/50\n",
            "819/819 [==============================] - 191s 233ms/step - loss: 10.7637 - mae: 2.5425 - val_loss: 10.0244 - val_mae: 2.4544\n",
            "Epoch 15/50\n",
            "819/819 [==============================] - 195s 237ms/step - loss: 10.6663 - mae: 2.5318 - val_loss: 10.0563 - val_mae: 2.4661\n",
            "Epoch 16/50\n",
            "819/819 [==============================] - 196s 239ms/step - loss: 10.5902 - mae: 2.5205 - val_loss: 9.6933 - val_mae: 2.4154\n",
            "Epoch 17/50\n",
            "819/819 [==============================] - 194s 236ms/step - loss: 10.4807 - mae: 2.5071 - val_loss: 10.1972 - val_mae: 2.4755\n",
            "Epoch 18/50\n",
            "819/819 [==============================] - 194s 237ms/step - loss: 10.4214 - mae: 2.4988 - val_loss: 9.9947 - val_mae: 2.4554\n",
            "Epoch 19/50\n",
            "819/819 [==============================] - 187s 228ms/step - loss: 10.3102 - mae: 2.4869 - val_loss: 10.4306 - val_mae: 2.5006\n",
            "Epoch 20/50\n",
            "819/819 [==============================] - 191s 232ms/step - loss: 10.1457 - mae: 2.4714 - val_loss: 9.8109 - val_mae: 2.4390\n",
            "Epoch 21/50\n",
            "819/819 [==============================] - 196s 238ms/step - loss: 10.1065 - mae: 2.4638 - val_loss: 10.1820 - val_mae: 2.4843\n",
            "Epoch 22/50\n",
            "819/819 [==============================] - 197s 241ms/step - loss: 10.0517 - mae: 2.4588 - val_loss: 10.4940 - val_mae: 2.5228\n",
            "Epoch 23/50\n",
            "819/819 [==============================] - 199s 243ms/step - loss: 9.9733 - mae: 2.4464 - val_loss: 10.5163 - val_mae: 2.5352\n",
            "Epoch 24/50\n",
            "819/819 [==============================] - 197s 240ms/step - loss: 9.8586 - mae: 2.4358 - val_loss: 10.2501 - val_mae: 2.4930\n",
            "Epoch 25/50\n",
            "819/819 [==============================] - 199s 242ms/step - loss: 9.7626 - mae: 2.4243 - val_loss: 10.3921 - val_mae: 2.5197\n",
            "Epoch 26/50\n",
            "819/819 [==============================] - 207s 252ms/step - loss: 9.7645 - mae: 2.4246 - val_loss: 10.4262 - val_mae: 2.5088\n",
            "Epoch 27/50\n",
            "819/819 [==============================] - 194s 237ms/step - loss: 9.7169 - mae: 2.4164 - val_loss: 10.4814 - val_mae: 2.5169\n",
            "Epoch 28/50\n",
            "819/819 [==============================] - 189s 230ms/step - loss: 9.6202 - mae: 2.4041 - val_loss: 10.7353 - val_mae: 2.5490\n",
            "Epoch 29/50\n",
            "819/819 [==============================] - 194s 237ms/step - loss: 9.5711 - mae: 2.3990 - val_loss: 10.5428 - val_mae: 2.5301\n",
            "Epoch 30/50\n",
            "819/819 [==============================] - 195s 238ms/step - loss: 9.4932 - mae: 2.3897 - val_loss: 10.2138 - val_mae: 2.4960\n",
            "Epoch 31/50\n",
            "819/819 [==============================] - 193s 235ms/step - loss: 9.4509 - mae: 2.3822 - val_loss: 10.6685 - val_mae: 2.5599\n",
            "Epoch 32/50\n",
            "819/819 [==============================] - 199s 243ms/step - loss: 9.3729 - mae: 2.3741 - val_loss: 10.5619 - val_mae: 2.5368\n",
            "Epoch 33/50\n",
            "819/819 [==============================] - 190s 232ms/step - loss: 9.3726 - mae: 2.3731 - val_loss: 10.9725 - val_mae: 2.5800\n",
            "Epoch 34/50\n",
            "819/819 [==============================] - 205s 250ms/step - loss: 9.3902 - mae: 2.3742 - val_loss: 10.6673 - val_mae: 2.5458\n",
            "Epoch 35/50\n",
            "819/819 [==============================] - 196s 239ms/step - loss: 9.2687 - mae: 2.3630 - val_loss: 10.5695 - val_mae: 2.5440\n",
            "Epoch 36/50\n",
            "819/819 [==============================] - 199s 242ms/step - loss: 9.2402 - mae: 2.3559 - val_loss: 10.6581 - val_mae: 2.5507\n",
            "Epoch 37/50\n",
            "819/819 [==============================] - 196s 239ms/step - loss: 9.1870 - mae: 2.3485 - val_loss: 10.7771 - val_mae: 2.5603\n",
            "Epoch 38/50\n",
            "819/819 [==============================] - 196s 239ms/step - loss: 9.2101 - mae: 2.3508 - val_loss: 11.6774 - val_mae: 2.6438\n",
            "Epoch 39/50\n",
            "819/819 [==============================] - 197s 240ms/step - loss: 9.1106 - mae: 2.3410 - val_loss: 10.7058 - val_mae: 2.5660\n",
            "Epoch 40/50\n",
            "819/819 [==============================] - 194s 237ms/step - loss: 9.1344 - mae: 2.3423 - val_loss: 10.9658 - val_mae: 2.5823\n",
            "Epoch 41/50\n",
            "819/819 [==============================] - 194s 237ms/step - loss: 9.1084 - mae: 2.3383 - val_loss: 10.4979 - val_mae: 2.5415\n",
            "Epoch 42/50\n",
            "819/819 [==============================] - 194s 237ms/step - loss: 9.0346 - mae: 2.3318 - val_loss: 10.9140 - val_mae: 2.5753\n",
            "Epoch 43/50\n",
            "819/819 [==============================] - 192s 234ms/step - loss: 9.0333 - mae: 2.3300 - val_loss: 11.2406 - val_mae: 2.6097\n",
            "Epoch 44/50\n",
            "819/819 [==============================] - 204s 248ms/step - loss: 9.0074 - mae: 2.3233 - val_loss: 10.6431 - val_mae: 2.5501\n",
            "Epoch 45/50\n",
            "819/819 [==============================] - 192s 235ms/step - loss: 8.9475 - mae: 2.3171 - val_loss: 10.8772 - val_mae: 2.5746\n",
            "Epoch 46/50\n",
            "819/819 [==============================] - 187s 228ms/step - loss: 8.9509 - mae: 2.3162 - val_loss: 11.0861 - val_mae: 2.6003\n",
            "Epoch 47/50\n",
            "819/819 [==============================] - 182s 222ms/step - loss: 8.9573 - mae: 2.3180 - val_loss: 11.2790 - val_mae: 2.6205\n",
            "Epoch 48/50\n",
            "819/819 [==============================] - 182s 222ms/step - loss: 8.8676 - mae: 2.3080 - val_loss: 11.1452 - val_mae: 2.6024\n",
            "Epoch 49/50\n",
            "819/819 [==============================] - 180s 219ms/step - loss: 8.8424 - mae: 2.3038 - val_loss: 11.2819 - val_mae: 2.6272\n",
            "Epoch 50/50\n",
            "819/819 [==============================] - 182s 221ms/step - loss: 8.8431 - mae: 2.3052 - val_loss: 11.2484 - val_mae: 2.6273\n"
          ]
        }
      ]
    },
    {
      "cell_type": "markdown",
      "source": [
        "### 10.4.2 스태킹 순환 층"
      ],
      "metadata": {
        "id": "F2_84YnJEP1-"
      }
    },
    {
      "cell_type": "code",
      "source": [
        "# 드롭아웃 규제와 스태킹을 적용한 GRU 모델을 훈련하고 평가하기\n",
        "inputs = keras.Input(shape=(sequence_length, raw_data.shape[-1]))\n",
        "x = layers.GRU(32, recurrent_dropout=0.5, return_sequences=True)(inputs)\n",
        "x = layers.GRU(32, recurrent_dropout=0.5)(x)\n",
        "x = layers.Dropout(0.5)(x)\n",
        "outputs = layers.Dense(1)(x)\n",
        "model = keras.Model(inputs, outputs)  \n",
        "\n",
        "callbacks = [\n",
        "    keras.callbacks.ModelCheckpoint(\"jena_stacked_gru_dropout.keras\",\n",
        "                                    save_best_only=True)\n",
        "]\n",
        "model.compile(optimizer=\"rmsprop\", loss=\"mse\", metrics=[\"mae\"])\n",
        "history = model.fit(train_dataset,\n",
        "                    epochs=50,\n",
        "                    validation_data=val_dataset,\n",
        "                    callbacks=callbacks)\n",
        "model = keras.models.load_model(\"jena_stacked_gru_dropout.keras\")\n",
        "print(f\"테스트 MAE: {model.evaluate(test_dataset)[1]:.2f}\")"
      ],
      "metadata": {
        "colab": {
          "base_uri": "https://localhost:8080/"
        },
        "id": "ObJQyH2vA4pB",
        "outputId": "85d11e60-4b25-4bf3-eac6-cd1828188644"
      },
      "execution_count": null,
      "outputs": [
        {
          "output_type": "stream",
          "name": "stdout",
          "text": [
            "Epoch 1/50\n",
            "819/819 [==============================] - 291s 349ms/step - loss: 24.9278 - mae: 3.6922 - val_loss: 9.4421 - val_mae: 2.3872\n",
            "Epoch 2/50\n",
            "819/819 [==============================] - 286s 349ms/step - loss: 14.0726 - mae: 2.9044 - val_loss: 9.0597 - val_mae: 2.3300\n",
            "Epoch 3/50\n",
            "819/819 [==============================] - 288s 352ms/step - loss: 13.2802 - mae: 2.8247 - val_loss: 9.2560 - val_mae: 2.3615\n",
            "Epoch 4/50\n",
            "819/819 [==============================] - 290s 353ms/step - loss: 12.5944 - mae: 2.7559 - val_loss: 8.9481 - val_mae: 2.3190\n",
            "Epoch 5/50\n",
            "819/819 [==============================] - 298s 364ms/step - loss: 12.1124 - mae: 2.7042 - val_loss: 9.6601 - val_mae: 2.4116\n",
            "Epoch 6/50\n",
            "819/819 [==============================] - 293s 357ms/step - loss: 11.6912 - mae: 2.6543 - val_loss: 8.9285 - val_mae: 2.3207\n",
            "Epoch 7/50\n",
            "819/819 [==============================] - 289s 353ms/step - loss: 11.2715 - mae: 2.6058 - val_loss: 9.2769 - val_mae: 2.3587\n",
            "Epoch 8/50\n",
            "819/819 [==============================] - 293s 357ms/step - loss: 10.9896 - mae: 2.5712 - val_loss: 9.2173 - val_mae: 2.3411\n",
            "Epoch 9/50\n",
            "819/819 [==============================] - 294s 359ms/step - loss: 10.6659 - mae: 2.5377 - val_loss: 9.7468 - val_mae: 2.4152\n",
            "Epoch 10/50\n",
            "819/819 [==============================] - 292s 356ms/step - loss: 10.3420 - mae: 2.5016 - val_loss: 9.7635 - val_mae: 2.4162\n",
            "Epoch 11/50\n",
            "819/819 [==============================] - 290s 354ms/step - loss: 10.1352 - mae: 2.4759 - val_loss: 9.5962 - val_mae: 2.3927\n",
            "Epoch 12/50\n",
            "819/819 [==============================] - 295s 360ms/step - loss: 9.8758 - mae: 2.4450 - val_loss: 10.4305 - val_mae: 2.4988\n",
            "Epoch 13/50\n",
            "819/819 [==============================] - 295s 360ms/step - loss: 9.6911 - mae: 2.4203 - val_loss: 9.9167 - val_mae: 2.4335\n",
            "Epoch 14/50\n",
            "819/819 [==============================] - 288s 351ms/step - loss: 9.5199 - mae: 2.3994 - val_loss: 10.2518 - val_mae: 2.4770\n",
            "Epoch 15/50\n",
            "819/819 [==============================] - 287s 350ms/step - loss: 9.3751 - mae: 2.3814 - val_loss: 10.1654 - val_mae: 2.4631\n",
            "Epoch 16/50\n",
            "819/819 [==============================] - 289s 353ms/step - loss: 9.1767 - mae: 2.3542 - val_loss: 10.0918 - val_mae: 2.4560\n",
            "Epoch 17/50\n",
            "819/819 [==============================] - 290s 354ms/step - loss: 9.0878 - mae: 2.3486 - val_loss: 9.9948 - val_mae: 2.4508\n",
            "Epoch 18/50\n",
            "819/819 [==============================] - 306s 373ms/step - loss: 8.9773 - mae: 2.3293 - val_loss: 10.1377 - val_mae: 2.4696\n",
            "Epoch 19/50\n",
            "819/819 [==============================] - 305s 372ms/step - loss: 8.8186 - mae: 2.3074 - val_loss: 10.0235 - val_mae: 2.4518\n",
            "Epoch 20/50\n",
            "819/819 [==============================] - 302s 369ms/step - loss: 8.6849 - mae: 2.2945 - val_loss: 10.9029 - val_mae: 2.5574\n",
            "Epoch 21/50\n",
            "819/819 [==============================] - 305s 372ms/step - loss: 8.5545 - mae: 2.2725 - val_loss: 10.5951 - val_mae: 2.5075\n",
            "Epoch 22/50\n",
            "819/819 [==============================] - 300s 366ms/step - loss: 8.4518 - mae: 2.2622 - val_loss: 10.9317 - val_mae: 2.5641\n",
            "Epoch 23/50\n",
            "819/819 [==============================] - 325s 397ms/step - loss: 8.2950 - mae: 2.2401 - val_loss: 10.9697 - val_mae: 2.5625\n",
            "Epoch 24/50\n",
            "819/819 [==============================] - 316s 385ms/step - loss: 8.2882 - mae: 2.2381 - val_loss: 10.6874 - val_mae: 2.5235\n",
            "Epoch 25/50\n",
            "819/819 [==============================] - 311s 379ms/step - loss: 8.2047 - mae: 2.2265 - val_loss: 11.1636 - val_mae: 2.5856\n",
            "Epoch 26/50\n",
            "819/819 [==============================] - 306s 373ms/step - loss: 8.1160 - mae: 2.2133 - val_loss: 10.7477 - val_mae: 2.5364\n",
            "Epoch 27/50\n",
            "819/819 [==============================] - 302s 368ms/step - loss: 8.0315 - mae: 2.2034 - val_loss: 10.8847 - val_mae: 2.5549\n",
            "Epoch 28/50\n",
            "234/819 [=======>......................] - ETA: 3:10 - loss: 7.9797 - mae: 2.1979"
          ]
        }
      ]
    },
    {
      "cell_type": "markdown",
      "source": [
        "### 10.4.3 양방향 RNN 사용하기"
      ],
      "metadata": {
        "id": "n4YEJluyETqT"
      }
    },
    {
      "cell_type": "code",
      "source": [
        "# 양방향 LSTM 모델 훈련하고 평가하기\n",
        "inputs = keras.Input(shape=(sequence_length, raw_data.shape[-1]))\n",
        "x = layers.Bidirectional(layers.LSTM(16))(inputs)\n",
        "outputs = layers.Dense(1)(x)\n",
        "model = keras.Model(inputs, outputs) \n",
        "model.compile(optimizer=\"rmsprop\", loss=\"mse\", metrics=[\"mae\"])\n",
        "history = model.fit(train_dataset,\n",
        "                    epochs=10,\n",
        "                    validation_data=val_dataset)"
      ],
      "metadata": {
        "id": "3PMdRSgdCJgw"
      },
      "execution_count": null,
      "outputs": []
    }
  ]
}